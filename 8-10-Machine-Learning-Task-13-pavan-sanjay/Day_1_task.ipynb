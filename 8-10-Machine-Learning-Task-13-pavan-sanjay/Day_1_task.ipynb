{
 "cells": [
  {
   "cell_type": "markdown",
   "metadata": {
    "id": "fhSR1uEnTiGy"
   },
   "source": [
    "Download the dataset from [here](https://drive.google.com/file/d/1dVbihPJFSh6sqUkOZBQHyTFZBHPowLPc/view?usp=sharing)"
   ]
  },
  {
   "cell_type": "code",
   "execution_count": null,
   "metadata": {
    "collapsed": true,
    "id": "JB0wWNMkTE0a"
   },
   "outputs": [],
   "source": [
    "import pandas as pd \n",
    "import numpy as np\n",
    "import matplotlib.pyplot as plt  \n",
    "import sklearn\n",
    "import keras "
   ]
  },
  {
   "cell_type": "code",
   "execution_count": 26,
   "metadata": {
    "id": "HjWeaot4TE0e"
   },
   "outputs": [],
   "source": [
    "\n",
    "df = pd.read_csv ('ecommerce.csv')\n"
   ]
  },
  {
   "cell_type": "markdown",
   "metadata": {
    "id": "tjdO3GJSTE0i"
   },
   "source": [
    "**Check the head of the DataFrame.**"
   ]
  },
  {
   "cell_type": "code",
   "execution_count": 27,
   "metadata": {
    "id": "wEOFLIC2TE0t",
    "outputId": "5db9a052-2f51-4b11-9f87-d2581500d742"
   },
   "outputs": [
    {
     "data": {
      "text/html": [
       "<div>\n",
       "<style scoped>\n",
       "    .dataframe tbody tr th:only-of-type {\n",
       "        vertical-align: middle;\n",
       "    }\n",
       "\n",
       "    .dataframe tbody tr th {\n",
       "        vertical-align: top;\n",
       "    }\n",
       "\n",
       "    .dataframe thead th {\n",
       "        text-align: right;\n",
       "    }\n",
       "</style>\n",
       "<table border=\"1\" class=\"dataframe\">\n",
       "  <thead>\n",
       "    <tr style=\"text-align: right;\">\n",
       "      <th></th>\n",
       "      <th>Address</th>\n",
       "      <th>Lot</th>\n",
       "      <th>AM or PM</th>\n",
       "      <th>Browser Info</th>\n",
       "      <th>Company</th>\n",
       "      <th>Credit Card</th>\n",
       "      <th>CC Exp Date</th>\n",
       "      <th>CC Security Code</th>\n",
       "      <th>CC Provider</th>\n",
       "      <th>Email</th>\n",
       "      <th>Job</th>\n",
       "      <th>IP Address</th>\n",
       "      <th>Language</th>\n",
       "      <th>Purchase Price</th>\n",
       "    </tr>\n",
       "  </thead>\n",
       "  <tbody>\n",
       "    <tr>\n",
       "      <th>0</th>\n",
       "      <td>16629 Pace Camp Apt. 448\\r\\nAlexisborough, NE ...</td>\n",
       "      <td>46 in</td>\n",
       "      <td>PM</td>\n",
       "      <td>Opera/9.56.(X11; Linux x86_64; sl-SI) Presto/2...</td>\n",
       "      <td>Martinez-Herman</td>\n",
       "      <td>6011929061123406</td>\n",
       "      <td>02/20</td>\n",
       "      <td>900</td>\n",
       "      <td>JCB 16 digit</td>\n",
       "      <td>pdunlap@yahoo.com</td>\n",
       "      <td>Scientist, product/process development</td>\n",
       "      <td>149.146.147.205</td>\n",
       "      <td>el</td>\n",
       "      <td>98.14</td>\n",
       "    </tr>\n",
       "    <tr>\n",
       "      <th>1</th>\n",
       "      <td>9374 Jasmine Spurs Suite 508\\r\\nSouth John, TN...</td>\n",
       "      <td>28 rn</td>\n",
       "      <td>PM</td>\n",
       "      <td>Opera/8.93.(Windows 98; Win 9x 4.90; en-US) Pr...</td>\n",
       "      <td>Fletcher, Richards and Whitaker</td>\n",
       "      <td>3337758169645356</td>\n",
       "      <td>11/18</td>\n",
       "      <td>561</td>\n",
       "      <td>Mastercard</td>\n",
       "      <td>anthony41@reed.com</td>\n",
       "      <td>Drilling engineer</td>\n",
       "      <td>15.160.41.51</td>\n",
       "      <td>fr</td>\n",
       "      <td>70.73</td>\n",
       "    </tr>\n",
       "    <tr>\n",
       "      <th>2</th>\n",
       "      <td>Unit 0065 Box 5052\\r\\nDPO AP 27450</td>\n",
       "      <td>94 vE</td>\n",
       "      <td>PM</td>\n",
       "      <td>Mozilla/5.0 (compatible; MSIE 9.0; Windows NT ...</td>\n",
       "      <td>Simpson, Williams and Pham</td>\n",
       "      <td>675957666125</td>\n",
       "      <td>08/19</td>\n",
       "      <td>699</td>\n",
       "      <td>JCB 16 digit</td>\n",
       "      <td>amymiller@morales-harrison.com</td>\n",
       "      <td>Customer service manager</td>\n",
       "      <td>132.207.160.22</td>\n",
       "      <td>de</td>\n",
       "      <td>0.95</td>\n",
       "    </tr>\n",
       "    <tr>\n",
       "      <th>3</th>\n",
       "      <td>7780 Julia Fords\\r\\nNew Stacy, WA 45798</td>\n",
       "      <td>36 vm</td>\n",
       "      <td>PM</td>\n",
       "      <td>Mozilla/5.0 (Macintosh; Intel Mac OS X 10_8_0 ...</td>\n",
       "      <td>Williams, Marshall and Buchanan</td>\n",
       "      <td>6011578504430710</td>\n",
       "      <td>02/24</td>\n",
       "      <td>384</td>\n",
       "      <td>Discover</td>\n",
       "      <td>brent16@olson-robinson.info</td>\n",
       "      <td>Drilling engineer</td>\n",
       "      <td>30.250.74.19</td>\n",
       "      <td>es</td>\n",
       "      <td>78.04</td>\n",
       "    </tr>\n",
       "    <tr>\n",
       "      <th>4</th>\n",
       "      <td>23012 Munoz Drive Suite 337\\r\\nNew Cynthia, TX...</td>\n",
       "      <td>20 IE</td>\n",
       "      <td>AM</td>\n",
       "      <td>Opera/9.58.(X11; Linux x86_64; it-IT) Presto/2...</td>\n",
       "      <td>Brown, Watson and Andrews</td>\n",
       "      <td>6011456623207998</td>\n",
       "      <td>10/25</td>\n",
       "      <td>678</td>\n",
       "      <td>Diners Club / Carte Blanche</td>\n",
       "      <td>christopherwright@gmail.com</td>\n",
       "      <td>Fine artist</td>\n",
       "      <td>24.140.33.94</td>\n",
       "      <td>es</td>\n",
       "      <td>77.82</td>\n",
       "    </tr>\n",
       "  </tbody>\n",
       "</table>\n",
       "</div>"
      ],
      "text/plain": [
       "                                             Address    Lot AM or PM  \\\n",
       "0  16629 Pace Camp Apt. 448\\r\\nAlexisborough, NE ...  46 in       PM   \n",
       "1  9374 Jasmine Spurs Suite 508\\r\\nSouth John, TN...  28 rn       PM   \n",
       "2                 Unit 0065 Box 5052\\r\\nDPO AP 27450  94 vE       PM   \n",
       "3            7780 Julia Fords\\r\\nNew Stacy, WA 45798  36 vm       PM   \n",
       "4  23012 Munoz Drive Suite 337\\r\\nNew Cynthia, TX...  20 IE       AM   \n",
       "\n",
       "                                        Browser Info  \\\n",
       "0  Opera/9.56.(X11; Linux x86_64; sl-SI) Presto/2...   \n",
       "1  Opera/8.93.(Windows 98; Win 9x 4.90; en-US) Pr...   \n",
       "2  Mozilla/5.0 (compatible; MSIE 9.0; Windows NT ...   \n",
       "3  Mozilla/5.0 (Macintosh; Intel Mac OS X 10_8_0 ...   \n",
       "4  Opera/9.58.(X11; Linux x86_64; it-IT) Presto/2...   \n",
       "\n",
       "                           Company       Credit Card CC Exp Date  \\\n",
       "0                  Martinez-Herman  6011929061123406       02/20   \n",
       "1  Fletcher, Richards and Whitaker  3337758169645356       11/18   \n",
       "2       Simpson, Williams and Pham      675957666125       08/19   \n",
       "3  Williams, Marshall and Buchanan  6011578504430710       02/24   \n",
       "4        Brown, Watson and Andrews  6011456623207998       10/25   \n",
       "\n",
       "   CC Security Code                  CC Provider  \\\n",
       "0               900                 JCB 16 digit   \n",
       "1               561                   Mastercard   \n",
       "2               699                 JCB 16 digit   \n",
       "3               384                     Discover   \n",
       "4               678  Diners Club / Carte Blanche   \n",
       "\n",
       "                            Email                                     Job  \\\n",
       "0               pdunlap@yahoo.com  Scientist, product/process development   \n",
       "1              anthony41@reed.com                       Drilling engineer   \n",
       "2  amymiller@morales-harrison.com                Customer service manager   \n",
       "3     brent16@olson-robinson.info                       Drilling engineer   \n",
       "4     christopherwright@gmail.com                             Fine artist   \n",
       "\n",
       "        IP Address Language  Purchase Price  \n",
       "0  149.146.147.205       el           98.14  \n",
       "1     15.160.41.51       fr           70.73  \n",
       "2   132.207.160.22       de            0.95  \n",
       "3     30.250.74.19       es           78.04  \n",
       "4     24.140.33.94       es           77.82  "
      ]
     },
     "execution_count": 27,
     "metadata": {},
     "output_type": "execute_result"
    }
   ],
   "source": [
    "df.head()"
   ]
  },
  {
   "cell_type": "markdown",
   "metadata": {
    "id": "5Lo-QcqMTE0w"
   },
   "source": [
    "** How many rows and columns are there? **"
   ]
  },
  {
   "cell_type": "code",
   "execution_count": 23,
   "metadata": {
    "id": "iH4PHhIwTE01",
    "outputId": "cad45a4a-f5a1-4a36-d01a-19a7921b1a4b"
   },
   "outputs": [
    {
     "data": {
      "text/plain": [
       "(10000, 14)"
      ]
     },
     "execution_count": 23,
     "metadata": {},
     "output_type": "execute_result"
    }
   ],
   "source": [
    "#returns rows and columns in this format:(rows,columns)\n",
    "df.shape"
   ]
  },
  {
   "cell_type": "markdown",
   "metadata": {
    "id": "mYknbrScTE03"
   },
   "source": [
    "** What is the average Purchase Price? **"
   ]
  },
  {
   "cell_type": "code",
   "execution_count": 5,
   "metadata": {
    "id": "9XTTR2VrTE05",
    "outputId": "65d2b484-0c2a-4816-bd56-41839bb3edfa"
   },
   "outputs": [
    {
     "data": {
      "text/plain": [
       "50.34730200000025"
      ]
     },
     "execution_count": 5,
     "metadata": {},
     "output_type": "execute_result"
    }
   ],
   "source": [
    "import pandas as pd\n",
    "df = pd.read_csv ('ecommerce.csv')\n",
    "df['Purchase Price'].mean()"
   ]
  },
  {
   "cell_type": "markdown",
   "metadata": {
    "id": "pAoxjDY1TE07"
   },
   "source": [
    "** What were the highest and lowest purchase prices? **"
   ]
  },
  {
   "cell_type": "code",
   "execution_count": 6,
   "metadata": {
    "id": "QX1JwUpmTE08",
    "outputId": "3689027b-4b8f-4a47-a88d-90ffbbfcfde8"
   },
   "outputs": [
    {
     "data": {
      "text/plain": [
       "99.99"
      ]
     },
     "execution_count": 6,
     "metadata": {},
     "output_type": "execute_result"
    }
   ],
   "source": [
    "df['Purchase Price'].max()"
   ]
  },
  {
   "cell_type": "code",
   "execution_count": 7,
   "metadata": {
    "id": "rAqVwZ2RTE09",
    "outputId": "0b5dc3eb-5ec9-447e-fa52-6c4b742d632a"
   },
   "outputs": [
    {
     "data": {
      "text/plain": [
       "0.0"
      ]
     },
     "execution_count": 7,
     "metadata": {},
     "output_type": "execute_result"
    }
   ],
   "source": [
    "df['Purchase Price'].min()"
   ]
  },
  {
   "cell_type": "code",
   "execution_count": null,
   "metadata": {
    "id": "gd0VA3gWTE0-"
   },
   "outputs": [],
   "source": []
  },
  {
   "cell_type": "markdown",
   "metadata": {
    "id": "f3CHM1gTTE0-"
   },
   "source": [
    "** How many people have the job title of \"Lawyer\" ? **\n"
   ]
  },
  {
   "cell_type": "code",
   "execution_count": 10,
   "metadata": {
    "id": "Kk1k9pdmTE0_"
   },
   "outputs": [
    {
     "data": {
      "text/html": [
       "<div>\n",
       "<style scoped>\n",
       "    .dataframe tbody tr th:only-of-type {\n",
       "        vertical-align: middle;\n",
       "    }\n",
       "\n",
       "    .dataframe tbody tr th {\n",
       "        vertical-align: top;\n",
       "    }\n",
       "\n",
       "    .dataframe thead th {\n",
       "        text-align: right;\n",
       "    }\n",
       "</style>\n",
       "<table border=\"1\" class=\"dataframe\">\n",
       "  <thead>\n",
       "    <tr style=\"text-align: right;\">\n",
       "      <th></th>\n",
       "      <th>Address</th>\n",
       "      <th>Lot</th>\n",
       "      <th>AM or PM</th>\n",
       "      <th>Browser Info</th>\n",
       "      <th>Company</th>\n",
       "      <th>Credit Card</th>\n",
       "      <th>CC Exp Date</th>\n",
       "      <th>CC Security Code</th>\n",
       "      <th>CC Provider</th>\n",
       "      <th>Email</th>\n",
       "      <th>Job</th>\n",
       "      <th>IP Address</th>\n",
       "      <th>Language</th>\n",
       "      <th>Purchase Price</th>\n",
       "    </tr>\n",
       "  </thead>\n",
       "  <tbody>\n",
       "    <tr>\n",
       "      <th>470</th>\n",
       "      <td>9310 Bailey Mountain Apt. 832\\r\\nLake Jacqueli...</td>\n",
       "      <td>67 tQ</td>\n",
       "      <td>PM</td>\n",
       "      <td>Mozilla/5.0 (X11; Linux x86_64; rv:1.9.7.20) G...</td>\n",
       "      <td>White-Hicks</td>\n",
       "      <td>210056645973585</td>\n",
       "      <td>03/19</td>\n",
       "      <td>726</td>\n",
       "      <td>Voyager</td>\n",
       "      <td>francisjohnson@peters-green.com</td>\n",
       "      <td>Lawyer</td>\n",
       "      <td>253.78.210.57</td>\n",
       "      <td>it</td>\n",
       "      <td>64.50</td>\n",
       "    </tr>\n",
       "    <tr>\n",
       "      <th>508</th>\n",
       "      <td>5064 Nicole Circle\\r\\nJohnsonburgh, NM 78266-6283</td>\n",
       "      <td>53 rJ</td>\n",
       "      <td>PM</td>\n",
       "      <td>Mozilla/5.0 (Windows NT 5.2; it-IT; rv:1.9.1.2...</td>\n",
       "      <td>Mcdonald, Green and Jennings</td>\n",
       "      <td>4040542728940631</td>\n",
       "      <td>06/26</td>\n",
       "      <td>101</td>\n",
       "      <td>VISA 16 digit</td>\n",
       "      <td>karen24@hotmail.com</td>\n",
       "      <td>Lawyer</td>\n",
       "      <td>13.128.34.120</td>\n",
       "      <td>ru</td>\n",
       "      <td>94.40</td>\n",
       "    </tr>\n",
       "    <tr>\n",
       "      <th>1275</th>\n",
       "      <td>4394 Sherry Row Suite 034\\r\\nSouth Rebecca, MD...</td>\n",
       "      <td>80 jP</td>\n",
       "      <td>PM</td>\n",
       "      <td>Opera/9.29.(Windows NT 5.2; en-US) Presto/2.9....</td>\n",
       "      <td>Brewer-Smith</td>\n",
       "      <td>3096214913494379</td>\n",
       "      <td>04/17</td>\n",
       "      <td>124</td>\n",
       "      <td>JCB 15 digit</td>\n",
       "      <td>robertrobertson@ford.biz</td>\n",
       "      <td>Lawyer</td>\n",
       "      <td>245.31.38.181</td>\n",
       "      <td>el</td>\n",
       "      <td>58.05</td>\n",
       "    </tr>\n",
       "    <tr>\n",
       "      <th>1569</th>\n",
       "      <td>91733 King Mountains Apt. 356\\r\\nSouth Tammy, ...</td>\n",
       "      <td>20 Aa</td>\n",
       "      <td>AM</td>\n",
       "      <td>Mozilla/5.0 (Macintosh; U; Intel Mac OS X 10_7...</td>\n",
       "      <td>Hamilton Group</td>\n",
       "      <td>340721115247942</td>\n",
       "      <td>08/24</td>\n",
       "      <td>673</td>\n",
       "      <td>VISA 16 digit</td>\n",
       "      <td>denise22@hotmail.com</td>\n",
       "      <td>Lawyer</td>\n",
       "      <td>147.0.2.29</td>\n",
       "      <td>pt</td>\n",
       "      <td>30.64</td>\n",
       "    </tr>\n",
       "    <tr>\n",
       "      <th>1682</th>\n",
       "      <td>5691 Fox Mountains\\r\\nDudleyside, GU 66765-2101</td>\n",
       "      <td>67 Bk</td>\n",
       "      <td>AM</td>\n",
       "      <td>Mozilla/5.0 (Macintosh; U; Intel Mac OS X 10_6...</td>\n",
       "      <td>Barker-Hill</td>\n",
       "      <td>346047712475429</td>\n",
       "      <td>06/18</td>\n",
       "      <td>672</td>\n",
       "      <td>VISA 13 digit</td>\n",
       "      <td>roblesallen@hotmail.com</td>\n",
       "      <td>Lawyer</td>\n",
       "      <td>113.242.220.16</td>\n",
       "      <td>it</td>\n",
       "      <td>71.35</td>\n",
       "    </tr>\n",
       "    <tr>\n",
       "      <th>2164</th>\n",
       "      <td>57897 Stacey Pass\\r\\nLake Jacquelinestad, MA 0...</td>\n",
       "      <td>61 DY</td>\n",
       "      <td>PM</td>\n",
       "      <td>Opera/8.75.(X11; Linux i686; en-US) Presto/2.9...</td>\n",
       "      <td>Strickland, Kim and Roberts</td>\n",
       "      <td>378553048291720</td>\n",
       "      <td>05/24</td>\n",
       "      <td>547</td>\n",
       "      <td>VISA 16 digit</td>\n",
       "      <td>tinafranklin@gmail.com</td>\n",
       "      <td>Lawyer</td>\n",
       "      <td>207.151.62.49</td>\n",
       "      <td>el</td>\n",
       "      <td>80.75</td>\n",
       "    </tr>\n",
       "    <tr>\n",
       "      <th>2619</th>\n",
       "      <td>720 Laurie Plains Apt. 458\\r\\nChavezfurt, DE 0...</td>\n",
       "      <td>38 gp</td>\n",
       "      <td>AM</td>\n",
       "      <td>Opera/8.10.(X11; Linux x86_64; sl-SI) Presto/2...</td>\n",
       "      <td>Chang and Sons</td>\n",
       "      <td>869923449114563</td>\n",
       "      <td>02/21</td>\n",
       "      <td>867</td>\n",
       "      <td>VISA 13 digit</td>\n",
       "      <td>tyler64@burgess-sharp.com</td>\n",
       "      <td>Lawyer</td>\n",
       "      <td>225.153.247.249</td>\n",
       "      <td>de</td>\n",
       "      <td>68.36</td>\n",
       "    </tr>\n",
       "    <tr>\n",
       "      <th>2935</th>\n",
       "      <td>816 Cheyenne Causeway\\r\\nHeidibury, FL 10365</td>\n",
       "      <td>70 nu</td>\n",
       "      <td>AM</td>\n",
       "      <td>Mozilla/5.0 (X11; Linux i686; rv:1.9.5.20) Gec...</td>\n",
       "      <td>Tran Ltd</td>\n",
       "      <td>4211556868948397</td>\n",
       "      <td>07/17</td>\n",
       "      <td>602</td>\n",
       "      <td>Discover</td>\n",
       "      <td>sydney61@yates-smith.com</td>\n",
       "      <td>Lawyer</td>\n",
       "      <td>212.2.227.232</td>\n",
       "      <td>it</td>\n",
       "      <td>13.23</td>\n",
       "    </tr>\n",
       "    <tr>\n",
       "      <th>3663</th>\n",
       "      <td>6218 Mendez Estate\\r\\nEast Kylemouth, MI 80812</td>\n",
       "      <td>63 BG</td>\n",
       "      <td>PM</td>\n",
       "      <td>Mozilla/5.0 (Macintosh; U; PPC Mac OS X 10_6_3...</td>\n",
       "      <td>Powell Inc</td>\n",
       "      <td>4984963883682</td>\n",
       "      <td>05/23</td>\n",
       "      <td>758</td>\n",
       "      <td>JCB 15 digit</td>\n",
       "      <td>maryherrera@collier.com</td>\n",
       "      <td>Lawyer</td>\n",
       "      <td>10.241.193.16</td>\n",
       "      <td>zh</td>\n",
       "      <td>37.17</td>\n",
       "    </tr>\n",
       "    <tr>\n",
       "      <th>3738</th>\n",
       "      <td>3921 Courtney River\\r\\nSouth Donaldmouth, AK 7...</td>\n",
       "      <td>85 Rh</td>\n",
       "      <td>AM</td>\n",
       "      <td>Mozilla/5.0 (X11; Linux x86_64; rv:1.9.5.20) G...</td>\n",
       "      <td>Harris-Green</td>\n",
       "      <td>210058711225817</td>\n",
       "      <td>05/19</td>\n",
       "      <td>6981</td>\n",
       "      <td>Maestro</td>\n",
       "      <td>williamsontroy@yahoo.com</td>\n",
       "      <td>Lawyer</td>\n",
       "      <td>249.152.45.19</td>\n",
       "      <td>es</td>\n",
       "      <td>88.86</td>\n",
       "    </tr>\n",
       "    <tr>\n",
       "      <th>3966</th>\n",
       "      <td>3465 Hunter Streets Apt. 976\\r\\nMedinachester,...</td>\n",
       "      <td>07 xf</td>\n",
       "      <td>PM</td>\n",
       "      <td>Mozilla/5.0 (Windows; U; Windows NT 5.1) Apple...</td>\n",
       "      <td>Fitzpatrick and Sons</td>\n",
       "      <td>5403618183998542</td>\n",
       "      <td>12/25</td>\n",
       "      <td>9335</td>\n",
       "      <td>JCB 16 digit</td>\n",
       "      <td>jacksoncheryl@baird-armstrong.com</td>\n",
       "      <td>Lawyer</td>\n",
       "      <td>94.17.2.25</td>\n",
       "      <td>pt</td>\n",
       "      <td>67.40</td>\n",
       "    </tr>\n",
       "    <tr>\n",
       "      <th>5053</th>\n",
       "      <td>88431 Thomas Stream\\r\\nMartinchester, WA 82488</td>\n",
       "      <td>19 fZ</td>\n",
       "      <td>PM</td>\n",
       "      <td>Mozilla/5.0 (compatible; MSIE 6.0; Windows NT ...</td>\n",
       "      <td>Spencer-Evans</td>\n",
       "      <td>3088802632134019</td>\n",
       "      <td>05/22</td>\n",
       "      <td>648</td>\n",
       "      <td>VISA 16 digit</td>\n",
       "      <td>alisonblackwell@lewis.com</td>\n",
       "      <td>Lawyer</td>\n",
       "      <td>247.164.255.233</td>\n",
       "      <td>de</td>\n",
       "      <td>28.77</td>\n",
       "    </tr>\n",
       "    <tr>\n",
       "      <th>5339</th>\n",
       "      <td>50013 Jones Land\\r\\nPort Jenniferstad, VI 8434...</td>\n",
       "      <td>77 nA</td>\n",
       "      <td>PM</td>\n",
       "      <td>Opera/9.30.(X11; Linux x86_64; sl-SI) Presto/2...</td>\n",
       "      <td>Morales-Patel</td>\n",
       "      <td>3088634689927957</td>\n",
       "      <td>10/16</td>\n",
       "      <td>437</td>\n",
       "      <td>Voyager</td>\n",
       "      <td>benitezbrittany@johnson.com</td>\n",
       "      <td>Lawyer</td>\n",
       "      <td>161.31.240.143</td>\n",
       "      <td>ru</td>\n",
       "      <td>94.17</td>\n",
       "    </tr>\n",
       "    <tr>\n",
       "      <th>5452</th>\n",
       "      <td>8651 Joseph Gateway\\r\\nSandraborough, ID 48764...</td>\n",
       "      <td>70 aF</td>\n",
       "      <td>AM</td>\n",
       "      <td>Mozilla/5.0 (compatible; MSIE 6.0; Windows NT ...</td>\n",
       "      <td>Ross and Sons</td>\n",
       "      <td>344498441835254</td>\n",
       "      <td>03/20</td>\n",
       "      <td>990</td>\n",
       "      <td>VISA 13 digit</td>\n",
       "      <td>nwalker@yahoo.com</td>\n",
       "      <td>Lawyer</td>\n",
       "      <td>53.90.42.20</td>\n",
       "      <td>es</td>\n",
       "      <td>97.06</td>\n",
       "    </tr>\n",
       "    <tr>\n",
       "      <th>5562</th>\n",
       "      <td>2392 Fry Road Suite 714\\r\\nSouth Victoriaview,...</td>\n",
       "      <td>85 Cr</td>\n",
       "      <td>AM</td>\n",
       "      <td>Mozilla/5.0 (Windows; U; Windows 98; Win 9x 4....</td>\n",
       "      <td>Bishop-Rhodes</td>\n",
       "      <td>30488163899348</td>\n",
       "      <td>12/24</td>\n",
       "      <td>559</td>\n",
       "      <td>Mastercard</td>\n",
       "      <td>joshua94@yahoo.com</td>\n",
       "      <td>Lawyer</td>\n",
       "      <td>195.69.172.99</td>\n",
       "      <td>pt</td>\n",
       "      <td>4.01</td>\n",
       "    </tr>\n",
       "    <tr>\n",
       "      <th>5974</th>\n",
       "      <td>832 Summers Lodge\\r\\nBrentchester, PW 38987</td>\n",
       "      <td>91 Sd</td>\n",
       "      <td>PM</td>\n",
       "      <td>Opera/8.24.(Windows NT 4.0; en-US) Presto/2.9....</td>\n",
       "      <td>Hurst Inc</td>\n",
       "      <td>4248410460532828</td>\n",
       "      <td>10/23</td>\n",
       "      <td>698</td>\n",
       "      <td>Maestro</td>\n",
       "      <td>johnsonlaura@hotmail.com</td>\n",
       "      <td>Lawyer</td>\n",
       "      <td>196.207.196.174</td>\n",
       "      <td>zh</td>\n",
       "      <td>37.87</td>\n",
       "    </tr>\n",
       "    <tr>\n",
       "      <th>6131</th>\n",
       "      <td>453 Lisa Drive\\r\\nWest Heather, AZ 49188-3413</td>\n",
       "      <td>59 sI</td>\n",
       "      <td>PM</td>\n",
       "      <td>Opera/9.98.(Windows NT 5.0; it-IT) Presto/2.9....</td>\n",
       "      <td>Gordon, Jackson and Gibbs</td>\n",
       "      <td>869969268212053</td>\n",
       "      <td>08/22</td>\n",
       "      <td>886</td>\n",
       "      <td>JCB 15 digit</td>\n",
       "      <td>kimberlyzavala@massey.net</td>\n",
       "      <td>Lawyer</td>\n",
       "      <td>55.247.68.237</td>\n",
       "      <td>pt</td>\n",
       "      <td>71.57</td>\n",
       "    </tr>\n",
       "    <tr>\n",
       "      <th>6136</th>\n",
       "      <td>67830 Price Key Apt. 411\\r\\nLake Jenniferburgh...</td>\n",
       "      <td>64 Ht</td>\n",
       "      <td>AM</td>\n",
       "      <td>Mozilla/5.0 (Macintosh; PPC Mac OS X 10_5_4; r...</td>\n",
       "      <td>Hayes-Brown</td>\n",
       "      <td>5228370971923059</td>\n",
       "      <td>06/23</td>\n",
       "      <td>594</td>\n",
       "      <td>JCB 16 digit</td>\n",
       "      <td>julie99@yahoo.com</td>\n",
       "      <td>Lawyer</td>\n",
       "      <td>162.133.141.79</td>\n",
       "      <td>de</td>\n",
       "      <td>85.56</td>\n",
       "    </tr>\n",
       "    <tr>\n",
       "      <th>6220</th>\n",
       "      <td>0038 Miranda Street\\r\\nMichaelview, LA 12123-4297</td>\n",
       "      <td>32 BP</td>\n",
       "      <td>AM</td>\n",
       "      <td>Opera/8.25.(Windows NT 6.0; en-US) Presto/2.9....</td>\n",
       "      <td>Moore Inc</td>\n",
       "      <td>344501266556242</td>\n",
       "      <td>04/17</td>\n",
       "      <td>603</td>\n",
       "      <td>American Express</td>\n",
       "      <td>wclark@gmail.com</td>\n",
       "      <td>Lawyer</td>\n",
       "      <td>83.89.166.161</td>\n",
       "      <td>ru</td>\n",
       "      <td>52.04</td>\n",
       "    </tr>\n",
       "    <tr>\n",
       "      <th>7368</th>\n",
       "      <td>06123 Alexis Rue Apt. 143\\r\\nSimsmouth, AR 410...</td>\n",
       "      <td>27 Lo</td>\n",
       "      <td>PM</td>\n",
       "      <td>Opera/8.55.(X11; Linux i686; en-US) Presto/2.9...</td>\n",
       "      <td>Costa Ltd</td>\n",
       "      <td>869998170306422</td>\n",
       "      <td>08/22</td>\n",
       "      <td>339</td>\n",
       "      <td>Voyager</td>\n",
       "      <td>charlottecampos@yahoo.com</td>\n",
       "      <td>Lawyer</td>\n",
       "      <td>91.38.22.239</td>\n",
       "      <td>ru</td>\n",
       "      <td>52.12</td>\n",
       "    </tr>\n",
       "    <tr>\n",
       "      <th>7645</th>\n",
       "      <td>200 Sanford Loop\\r\\nMatthewberg, AK 13066-6861</td>\n",
       "      <td>17 mB</td>\n",
       "      <td>AM</td>\n",
       "      <td>Mozilla/5.0 (Windows 98; Win 9x 4.90; en-US; r...</td>\n",
       "      <td>Evans, Nguyen and Gray</td>\n",
       "      <td>589387098561</td>\n",
       "      <td>02/23</td>\n",
       "      <td>550</td>\n",
       "      <td>VISA 16 digit</td>\n",
       "      <td>crystal82@yahoo.com</td>\n",
       "      <td>Lawyer</td>\n",
       "      <td>71.114.92.68</td>\n",
       "      <td>it</td>\n",
       "      <td>93.34</td>\n",
       "    </tr>\n",
       "    <tr>\n",
       "      <th>8127</th>\n",
       "      <td>5369 Angela Shore Apt. 875\\r\\nNorth Morganside...</td>\n",
       "      <td>96 QP</td>\n",
       "      <td>AM</td>\n",
       "      <td>Mozilla/5.0 (X11; Linux x86_64; rv:1.9.6.20) G...</td>\n",
       "      <td>Walters LLC</td>\n",
       "      <td>4206351720932814</td>\n",
       "      <td>05/17</td>\n",
       "      <td>742</td>\n",
       "      <td>VISA 16 digit</td>\n",
       "      <td>efischer@yahoo.com</td>\n",
       "      <td>Lawyer</td>\n",
       "      <td>184.37.191.49</td>\n",
       "      <td>pt</td>\n",
       "      <td>76.88</td>\n",
       "    </tr>\n",
       "    <tr>\n",
       "      <th>8220</th>\n",
       "      <td>25263 Johnson Inlet\\r\\nSarahland, GU 69754-3605</td>\n",
       "      <td>31 An</td>\n",
       "      <td>AM</td>\n",
       "      <td>Mozilla/5.0 (Macintosh; U; PPC Mac OS X 10_7_5...</td>\n",
       "      <td>Riddle LLC</td>\n",
       "      <td>180022232791885</td>\n",
       "      <td>10/20</td>\n",
       "      <td>289</td>\n",
       "      <td>VISA 16 digit</td>\n",
       "      <td>vincentdylan@yahoo.com</td>\n",
       "      <td>Lawyer</td>\n",
       "      <td>94.127.196.157</td>\n",
       "      <td>el</td>\n",
       "      <td>15.49</td>\n",
       "    </tr>\n",
       "    <tr>\n",
       "      <th>8620</th>\n",
       "      <td>0072 Arnold Courts Apt. 311\\r\\nNew Joel, MA 24...</td>\n",
       "      <td>97 Nt</td>\n",
       "      <td>PM</td>\n",
       "      <td>Mozilla/5.0 (Macintosh; Intel Mac OS X 10_7_7 ...</td>\n",
       "      <td>Morales-Wilson</td>\n",
       "      <td>3158975362628874</td>\n",
       "      <td>03/25</td>\n",
       "      <td>241</td>\n",
       "      <td>JCB 16 digit</td>\n",
       "      <td>daniel29@gmail.com</td>\n",
       "      <td>Lawyer</td>\n",
       "      <td>139.183.3.134</td>\n",
       "      <td>it</td>\n",
       "      <td>55.26</td>\n",
       "    </tr>\n",
       "    <tr>\n",
       "      <th>8683</th>\n",
       "      <td>13869 Blake Stravenue\\r\\nNorth Jacob, OH 51897</td>\n",
       "      <td>50 eG</td>\n",
       "      <td>PM</td>\n",
       "      <td>Opera/8.10.(X11; Linux i686; sl-SI) Presto/2.9...</td>\n",
       "      <td>Bush LLC</td>\n",
       "      <td>5151177972247169</td>\n",
       "      <td>03/21</td>\n",
       "      <td>681</td>\n",
       "      <td>JCB 15 digit</td>\n",
       "      <td>harperadam@yahoo.com</td>\n",
       "      <td>Lawyer</td>\n",
       "      <td>28.68.5.233</td>\n",
       "      <td>de</td>\n",
       "      <td>15.95</td>\n",
       "    </tr>\n",
       "    <tr>\n",
       "      <th>8801</th>\n",
       "      <td>6595 Patrick Terrace Suite 769\\r\\nAshleyfurt, ...</td>\n",
       "      <td>41 Bg</td>\n",
       "      <td>AM</td>\n",
       "      <td>Mozilla/5.0 (X11; Linux x86_64; rv:1.9.6.20) G...</td>\n",
       "      <td>Cooper Group</td>\n",
       "      <td>676110036222</td>\n",
       "      <td>03/20</td>\n",
       "      <td>497</td>\n",
       "      <td>JCB 16 digit</td>\n",
       "      <td>kenneth03@hotmail.com</td>\n",
       "      <td>Lawyer</td>\n",
       "      <td>41.69.43.163</td>\n",
       "      <td>it</td>\n",
       "      <td>21.12</td>\n",
       "    </tr>\n",
       "    <tr>\n",
       "      <th>8860</th>\n",
       "      <td>4293 Patterson Roads\\r\\nBrittanyburgh, GU 64922</td>\n",
       "      <td>00 lm</td>\n",
       "      <td>AM</td>\n",
       "      <td>Mozilla/5.0 (iPod; U; CPU iPhone OS 3_2 like M...</td>\n",
       "      <td>Lyons PLC</td>\n",
       "      <td>3337077857374496</td>\n",
       "      <td>05/17</td>\n",
       "      <td>383</td>\n",
       "      <td>Maestro</td>\n",
       "      <td>francissmith@hotmail.com</td>\n",
       "      <td>Lawyer</td>\n",
       "      <td>142.243.115.230</td>\n",
       "      <td>de</td>\n",
       "      <td>9.93</td>\n",
       "    </tr>\n",
       "    <tr>\n",
       "      <th>9175</th>\n",
       "      <td>3414 Burton Inlet\\r\\nNew Timothy, MO 26285</td>\n",
       "      <td>55 ZT</td>\n",
       "      <td>AM</td>\n",
       "      <td>Mozilla/5.0 (Macintosh; U; PPC Mac OS X 10_8_6...</td>\n",
       "      <td>Gutierrez-Payne</td>\n",
       "      <td>180014876668230</td>\n",
       "      <td>03/23</td>\n",
       "      <td>169</td>\n",
       "      <td>VISA 13 digit</td>\n",
       "      <td>ybarr@gmail.com</td>\n",
       "      <td>Lawyer</td>\n",
       "      <td>227.185.61.154</td>\n",
       "      <td>pt</td>\n",
       "      <td>30.58</td>\n",
       "    </tr>\n",
       "    <tr>\n",
       "      <th>9659</th>\n",
       "      <td>6229 Le Isle\\r\\nWrightside, FM 34946</td>\n",
       "      <td>46 nn</td>\n",
       "      <td>PM</td>\n",
       "      <td>Mozilla/5.0 (Macintosh; Intel Mac OS X 10_6_2;...</td>\n",
       "      <td>Silva-Townsend</td>\n",
       "      <td>4870145714276385</td>\n",
       "      <td>04/19</td>\n",
       "      <td>634</td>\n",
       "      <td>Diners Club / Carte Blanche</td>\n",
       "      <td>george28@johnson.com</td>\n",
       "      <td>Lawyer</td>\n",
       "      <td>144.223.178.78</td>\n",
       "      <td>el</td>\n",
       "      <td>72.87</td>\n",
       "    </tr>\n",
       "    <tr>\n",
       "      <th>9979</th>\n",
       "      <td>00490 Joseph Haven Apt. 149\\r\\nWest Keithfurt,...</td>\n",
       "      <td>69 XK</td>\n",
       "      <td>PM</td>\n",
       "      <td>Mozilla/5.0 (Windows NT 6.1) AppleWebKit/5311 ...</td>\n",
       "      <td>Randall-Ramirez</td>\n",
       "      <td>346734838013255</td>\n",
       "      <td>10/23</td>\n",
       "      <td>224</td>\n",
       "      <td>JCB 16 digit</td>\n",
       "      <td>qjohnson@yahoo.com</td>\n",
       "      <td>Lawyer</td>\n",
       "      <td>17.76.83.105</td>\n",
       "      <td>en</td>\n",
       "      <td>14.55</td>\n",
       "    </tr>\n",
       "  </tbody>\n",
       "</table>\n",
       "</div>"
      ],
      "text/plain": [
       "                                                Address    Lot AM or PM  \\\n",
       "470   9310 Bailey Mountain Apt. 832\\r\\nLake Jacqueli...  67 tQ       PM   \n",
       "508   5064 Nicole Circle\\r\\nJohnsonburgh, NM 78266-6283  53 rJ       PM   \n",
       "1275  4394 Sherry Row Suite 034\\r\\nSouth Rebecca, MD...  80 jP       PM   \n",
       "1569  91733 King Mountains Apt. 356\\r\\nSouth Tammy, ...  20 Aa       AM   \n",
       "1682    5691 Fox Mountains\\r\\nDudleyside, GU 66765-2101  67 Bk       AM   \n",
       "2164  57897 Stacey Pass\\r\\nLake Jacquelinestad, MA 0...  61 DY       PM   \n",
       "2619  720 Laurie Plains Apt. 458\\r\\nChavezfurt, DE 0...  38 gp       AM   \n",
       "2935       816 Cheyenne Causeway\\r\\nHeidibury, FL 10365  70 nu       AM   \n",
       "3663     6218 Mendez Estate\\r\\nEast Kylemouth, MI 80812  63 BG       PM   \n",
       "3738  3921 Courtney River\\r\\nSouth Donaldmouth, AK 7...  85 Rh       AM   \n",
       "3966  3465 Hunter Streets Apt. 976\\r\\nMedinachester,...  07 xf       PM   \n",
       "5053     88431 Thomas Stream\\r\\nMartinchester, WA 82488  19 fZ       PM   \n",
       "5339  50013 Jones Land\\r\\nPort Jenniferstad, VI 8434...  77 nA       PM   \n",
       "5452  8651 Joseph Gateway\\r\\nSandraborough, ID 48764...  70 aF       AM   \n",
       "5562  2392 Fry Road Suite 714\\r\\nSouth Victoriaview,...  85 Cr       AM   \n",
       "5974        832 Summers Lodge\\r\\nBrentchester, PW 38987  91 Sd       PM   \n",
       "6131      453 Lisa Drive\\r\\nWest Heather, AZ 49188-3413  59 sI       PM   \n",
       "6136  67830 Price Key Apt. 411\\r\\nLake Jenniferburgh...  64 Ht       AM   \n",
       "6220  0038 Miranda Street\\r\\nMichaelview, LA 12123-4297  32 BP       AM   \n",
       "7368  06123 Alexis Rue Apt. 143\\r\\nSimsmouth, AR 410...  27 Lo       PM   \n",
       "7645     200 Sanford Loop\\r\\nMatthewberg, AK 13066-6861  17 mB       AM   \n",
       "8127  5369 Angela Shore Apt. 875\\r\\nNorth Morganside...  96 QP       AM   \n",
       "8220    25263 Johnson Inlet\\r\\nSarahland, GU 69754-3605  31 An       AM   \n",
       "8620  0072 Arnold Courts Apt. 311\\r\\nNew Joel, MA 24...  97 Nt       PM   \n",
       "8683     13869 Blake Stravenue\\r\\nNorth Jacob, OH 51897  50 eG       PM   \n",
       "8801  6595 Patrick Terrace Suite 769\\r\\nAshleyfurt, ...  41 Bg       AM   \n",
       "8860    4293 Patterson Roads\\r\\nBrittanyburgh, GU 64922  00 lm       AM   \n",
       "9175         3414 Burton Inlet\\r\\nNew Timothy, MO 26285  55 ZT       AM   \n",
       "9659               6229 Le Isle\\r\\nWrightside, FM 34946  46 nn       PM   \n",
       "9979  00490 Joseph Haven Apt. 149\\r\\nWest Keithfurt,...  69 XK       PM   \n",
       "\n",
       "                                           Browser Info  \\\n",
       "470   Mozilla/5.0 (X11; Linux x86_64; rv:1.9.7.20) G...   \n",
       "508   Mozilla/5.0 (Windows NT 5.2; it-IT; rv:1.9.1.2...   \n",
       "1275  Opera/9.29.(Windows NT 5.2; en-US) Presto/2.9....   \n",
       "1569  Mozilla/5.0 (Macintosh; U; Intel Mac OS X 10_7...   \n",
       "1682  Mozilla/5.0 (Macintosh; U; Intel Mac OS X 10_6...   \n",
       "2164  Opera/8.75.(X11; Linux i686; en-US) Presto/2.9...   \n",
       "2619  Opera/8.10.(X11; Linux x86_64; sl-SI) Presto/2...   \n",
       "2935  Mozilla/5.0 (X11; Linux i686; rv:1.9.5.20) Gec...   \n",
       "3663  Mozilla/5.0 (Macintosh; U; PPC Mac OS X 10_6_3...   \n",
       "3738  Mozilla/5.0 (X11; Linux x86_64; rv:1.9.5.20) G...   \n",
       "3966  Mozilla/5.0 (Windows; U; Windows NT 5.1) Apple...   \n",
       "5053  Mozilla/5.0 (compatible; MSIE 6.0; Windows NT ...   \n",
       "5339  Opera/9.30.(X11; Linux x86_64; sl-SI) Presto/2...   \n",
       "5452  Mozilla/5.0 (compatible; MSIE 6.0; Windows NT ...   \n",
       "5562  Mozilla/5.0 (Windows; U; Windows 98; Win 9x 4....   \n",
       "5974  Opera/8.24.(Windows NT 4.0; en-US) Presto/2.9....   \n",
       "6131  Opera/9.98.(Windows NT 5.0; it-IT) Presto/2.9....   \n",
       "6136  Mozilla/5.0 (Macintosh; PPC Mac OS X 10_5_4; r...   \n",
       "6220  Opera/8.25.(Windows NT 6.0; en-US) Presto/2.9....   \n",
       "7368  Opera/8.55.(X11; Linux i686; en-US) Presto/2.9...   \n",
       "7645  Mozilla/5.0 (Windows 98; Win 9x 4.90; en-US; r...   \n",
       "8127  Mozilla/5.0 (X11; Linux x86_64; rv:1.9.6.20) G...   \n",
       "8220  Mozilla/5.0 (Macintosh; U; PPC Mac OS X 10_7_5...   \n",
       "8620  Mozilla/5.0 (Macintosh; Intel Mac OS X 10_7_7 ...   \n",
       "8683  Opera/8.10.(X11; Linux i686; sl-SI) Presto/2.9...   \n",
       "8801  Mozilla/5.0 (X11; Linux x86_64; rv:1.9.6.20) G...   \n",
       "8860  Mozilla/5.0 (iPod; U; CPU iPhone OS 3_2 like M...   \n",
       "9175  Mozilla/5.0 (Macintosh; U; PPC Mac OS X 10_8_6...   \n",
       "9659  Mozilla/5.0 (Macintosh; Intel Mac OS X 10_6_2;...   \n",
       "9979  Mozilla/5.0 (Windows NT 6.1) AppleWebKit/5311 ...   \n",
       "\n",
       "                           Company       Credit Card CC Exp Date  \\\n",
       "470                    White-Hicks   210056645973585       03/19   \n",
       "508   Mcdonald, Green and Jennings  4040542728940631       06/26   \n",
       "1275                  Brewer-Smith  3096214913494379       04/17   \n",
       "1569                Hamilton Group   340721115247942       08/24   \n",
       "1682                   Barker-Hill   346047712475429       06/18   \n",
       "2164   Strickland, Kim and Roberts   378553048291720       05/24   \n",
       "2619                Chang and Sons   869923449114563       02/21   \n",
       "2935                      Tran Ltd  4211556868948397       07/17   \n",
       "3663                    Powell Inc     4984963883682       05/23   \n",
       "3738                  Harris-Green   210058711225817       05/19   \n",
       "3966          Fitzpatrick and Sons  5403618183998542       12/25   \n",
       "5053                 Spencer-Evans  3088802632134019       05/22   \n",
       "5339                 Morales-Patel  3088634689927957       10/16   \n",
       "5452                 Ross and Sons   344498441835254       03/20   \n",
       "5562                 Bishop-Rhodes    30488163899348       12/24   \n",
       "5974                     Hurst Inc  4248410460532828       10/23   \n",
       "6131     Gordon, Jackson and Gibbs   869969268212053       08/22   \n",
       "6136                   Hayes-Brown  5228370971923059       06/23   \n",
       "6220                     Moore Inc   344501266556242       04/17   \n",
       "7368                     Costa Ltd   869998170306422       08/22   \n",
       "7645        Evans, Nguyen and Gray      589387098561       02/23   \n",
       "8127                   Walters LLC  4206351720932814       05/17   \n",
       "8220                    Riddle LLC   180022232791885       10/20   \n",
       "8620                Morales-Wilson  3158975362628874       03/25   \n",
       "8683                      Bush LLC  5151177972247169       03/21   \n",
       "8801                  Cooper Group      676110036222       03/20   \n",
       "8860                     Lyons PLC  3337077857374496       05/17   \n",
       "9175               Gutierrez-Payne   180014876668230       03/23   \n",
       "9659                Silva-Townsend  4870145714276385       04/19   \n",
       "9979               Randall-Ramirez   346734838013255       10/23   \n",
       "\n",
       "      CC Security Code                  CC Provider  \\\n",
       "470                726                      Voyager   \n",
       "508                101                VISA 16 digit   \n",
       "1275               124                 JCB 15 digit   \n",
       "1569               673                VISA 16 digit   \n",
       "1682               672                VISA 13 digit   \n",
       "2164               547                VISA 16 digit   \n",
       "2619               867                VISA 13 digit   \n",
       "2935               602                     Discover   \n",
       "3663               758                 JCB 15 digit   \n",
       "3738              6981                      Maestro   \n",
       "3966              9335                 JCB 16 digit   \n",
       "5053               648                VISA 16 digit   \n",
       "5339               437                      Voyager   \n",
       "5452               990                VISA 13 digit   \n",
       "5562               559                   Mastercard   \n",
       "5974               698                      Maestro   \n",
       "6131               886                 JCB 15 digit   \n",
       "6136               594                 JCB 16 digit   \n",
       "6220               603             American Express   \n",
       "7368               339                      Voyager   \n",
       "7645               550                VISA 16 digit   \n",
       "8127               742                VISA 16 digit   \n",
       "8220               289                VISA 16 digit   \n",
       "8620               241                 JCB 16 digit   \n",
       "8683               681                 JCB 15 digit   \n",
       "8801               497                 JCB 16 digit   \n",
       "8860               383                      Maestro   \n",
       "9175               169                VISA 13 digit   \n",
       "9659               634  Diners Club / Carte Blanche   \n",
       "9979               224                 JCB 16 digit   \n",
       "\n",
       "                                  Email     Job       IP Address Language  \\\n",
       "470     francisjohnson@peters-green.com  Lawyer    253.78.210.57       it   \n",
       "508                 karen24@hotmail.com  Lawyer    13.128.34.120       ru   \n",
       "1275           robertrobertson@ford.biz  Lawyer    245.31.38.181       el   \n",
       "1569               denise22@hotmail.com  Lawyer       147.0.2.29       pt   \n",
       "1682            roblesallen@hotmail.com  Lawyer   113.242.220.16       it   \n",
       "2164             tinafranklin@gmail.com  Lawyer    207.151.62.49       el   \n",
       "2619          tyler64@burgess-sharp.com  Lawyer  225.153.247.249       de   \n",
       "2935           sydney61@yates-smith.com  Lawyer    212.2.227.232       it   \n",
       "3663            maryherrera@collier.com  Lawyer    10.241.193.16       zh   \n",
       "3738           williamsontroy@yahoo.com  Lawyer    249.152.45.19       es   \n",
       "3966  jacksoncheryl@baird-armstrong.com  Lawyer       94.17.2.25       pt   \n",
       "5053          alisonblackwell@lewis.com  Lawyer  247.164.255.233       de   \n",
       "5339        benitezbrittany@johnson.com  Lawyer   161.31.240.143       ru   \n",
       "5452                  nwalker@yahoo.com  Lawyer      53.90.42.20       es   \n",
       "5562                 joshua94@yahoo.com  Lawyer    195.69.172.99       pt   \n",
       "5974           johnsonlaura@hotmail.com  Lawyer  196.207.196.174       zh   \n",
       "6131          kimberlyzavala@massey.net  Lawyer    55.247.68.237       pt   \n",
       "6136                  julie99@yahoo.com  Lawyer   162.133.141.79       de   \n",
       "6220                   wclark@gmail.com  Lawyer    83.89.166.161       ru   \n",
       "7368          charlottecampos@yahoo.com  Lawyer     91.38.22.239       ru   \n",
       "7645                crystal82@yahoo.com  Lawyer     71.114.92.68       it   \n",
       "8127                 efischer@yahoo.com  Lawyer    184.37.191.49       pt   \n",
       "8220             vincentdylan@yahoo.com  Lawyer   94.127.196.157       el   \n",
       "8620                 daniel29@gmail.com  Lawyer    139.183.3.134       it   \n",
       "8683               harperadam@yahoo.com  Lawyer      28.68.5.233       de   \n",
       "8801              kenneth03@hotmail.com  Lawyer     41.69.43.163       it   \n",
       "8860           francissmith@hotmail.com  Lawyer  142.243.115.230       de   \n",
       "9175                    ybarr@gmail.com  Lawyer   227.185.61.154       pt   \n",
       "9659               george28@johnson.com  Lawyer   144.223.178.78       el   \n",
       "9979                 qjohnson@yahoo.com  Lawyer     17.76.83.105       en   \n",
       "\n",
       "      Purchase Price  \n",
       "470            64.50  \n",
       "508            94.40  \n",
       "1275           58.05  \n",
       "1569           30.64  \n",
       "1682           71.35  \n",
       "2164           80.75  \n",
       "2619           68.36  \n",
       "2935           13.23  \n",
       "3663           37.17  \n",
       "3738           88.86  \n",
       "3966           67.40  \n",
       "5053           28.77  \n",
       "5339           94.17  \n",
       "5452           97.06  \n",
       "5562            4.01  \n",
       "5974           37.87  \n",
       "6131           71.57  \n",
       "6136           85.56  \n",
       "6220           52.04  \n",
       "7368           52.12  \n",
       "7645           93.34  \n",
       "8127           76.88  \n",
       "8220           15.49  \n",
       "8620           55.26  \n",
       "8683           15.95  \n",
       "8801           21.12  \n",
       "8860            9.93  \n",
       "9175           30.58  \n",
       "9659           72.87  \n",
       "9979           14.55  "
      ]
     },
     "execution_count": 10,
     "metadata": {},
     "output_type": "execute_result"
    }
   ],
   "source": [
    "df[df['Job']=='Lawyer']\n"
   ]
  },
  {
   "cell_type": "markdown",
   "metadata": {
    "id": "Uuf7AlD0TE1B"
   },
   "source": [
    "** How many people made the purchase during the AM and how many people made the purchase during PM ? **\n",
    "\n"
   ]
  },
  {
   "cell_type": "code",
   "execution_count": 36,
   "metadata": {
    "id": "15bz7ui0TE1D",
    "outputId": "1eb9113a-8cbf-4c5a-cbe0-54726b46f639"
   },
   "outputs": [
    {
     "name": "stdout",
     "output_type": "stream",
     "text": [
      " PM  5068\n",
      " AM  4932\n"
     ]
    }
   ],
   "source": [
    "#no of purchases during PM\n",
    "print(\" PM \",str(len(df[df['AM or PM']=='PM'])))\n",
    "#no of purchases during AM\n",
    "print(\" AM \",str(len(df[df['AM or PM']=='AM'])))"
   ]
  },
  {
   "cell_type": "markdown",
   "metadata": {
    "id": "Re05oVGfTE1E"
   },
   "source": [
    "** What are the 5 most common Job Titles? **"
   ]
  },
  {
   "cell_type": "code",
   "execution_count": 4,
   "metadata": {
    "id": "3JPrxQNpTE1F"
   },
   "outputs": [
    {
     "name": "stdout",
     "output_type": "stream",
     "text": [
      "5 most commen Job titles\n",
      "\n"
     ]
    },
    {
     "data": {
      "text/plain": [
       "Interior and spatial designer        31\n",
       "Lawyer                               30\n",
       "Social researcher                    28\n",
       "Purchasing manager                   27\n",
       "Research officer, political party    27\n",
       "Name: Job, dtype: int64"
      ]
     },
     "execution_count": 4,
     "metadata": {},
     "output_type": "execute_result"
    }
   ],
   "source": [
    "import pandas as pd\n",
    "df = pd.read_csv ('ecommerce.csv')\n",
    "print(\"5 most commen Job titles\\n\")\n",
    "df['Job'].value_counts()[:5].sort_values(ascending=False)"
   ]
  },
  {
   "cell_type": "markdown",
   "metadata": {
    "id": "kQjVw0VsTE1G"
   },
   "source": [
    "** Someone made a purchase that came from Lot: \"90 WT\" , what was the Purchase Price for this transaction? **"
   ]
  },
  {
   "cell_type": "code",
   "execution_count": 8,
   "metadata": {
    "id": "99gDYg3KTE1H",
    "outputId": "b3df1b99-7d69-4170-b7b1-0d43482a2306"
   },
   "outputs": [
    {
     "data": {
      "text/plain": [
       "513    75.1\n",
       "Name: Purchase Price, dtype: float64"
      ]
     },
     "execution_count": 8,
     "metadata": {},
     "output_type": "execute_result"
    }
   ],
   "source": [
    "df['Purchase Price'][df['Lot']=='90 WT']"
   ]
  },
  {
   "cell_type": "markdown",
   "metadata": {
    "id": "gaGZoVevTE1J"
   },
   "source": [
    "** What is the email of the person with the following Credit Card Number: 4926535242672853 **"
   ]
  },
  {
   "cell_type": "code",
   "execution_count": 10,
   "metadata": {
    "id": "PyM1KsInTE1K",
    "outputId": "0518bab4-b602-46ca-c3b9-3f92ee1a72a9"
   },
   "outputs": [
    {
     "data": {
      "text/plain": [
       "1234    bondellen@williams-garza.com\n",
       "Name: Email, dtype: object"
      ]
     },
     "execution_count": 10,
     "metadata": {},
     "output_type": "execute_result"
    }
   ],
   "source": [
    "df['Email'][df['Credit Card']==4926535242672853 ]"
   ]
  },
  {
   "cell_type": "markdown",
   "metadata": {
    "id": "kbK-nQPITE1K"
   },
   "source": [
    "** How many people have American Express as their Credit Card Provider *and* made a purchase above $95 ?**"
   ]
  },
  {
   "cell_type": "code",
   "execution_count": 4,
   "metadata": {
    "id": "1D94G_2zTE1L"
   },
   "outputs": [
    {
     "name": "stdout",
     "output_type": "stream",
     "text": [
      "1\n"
     ]
    }
   ],
   "source": [
    "import pandas as pd\n",
    "df = pd.read_csv ('ecommerce.csv')\n",
    "\n",
    "i=0\n",
    "condi=(df['CC Provider']=='American Express') & df['Purchase Price']>95\n",
    "if condi.empty==False:\n",
    "        i+=1\n",
    "print(i)\n",
    "\n",
    "\n",
    "\n",
    "    \n",
    "  \n",
    "    \n",
    "    \n",
    "\n"
   ]
  },
  {
   "cell_type": "markdown",
   "metadata": {
    "id": "2V33cNyNTE1L"
   },
   "source": [
    "** Hard: How many people have a credi card that expires in 2025? **"
   ]
  },
  {
   "cell_type": "markdown",
   "metadata": {},
   "source": []
  },
  {
   "cell_type": "code",
   "execution_count": 116,
   "metadata": {
    "id": "H3j0u7scTE1L",
    "outputId": "0b169fca-60e8-44bb-d0fd-4d7e15e77fdd",
    "scrolled": true
   },
   "outputs": [
    {
     "name": "stdout",
     "output_type": "stream",
     "text": [
      "1033\n",
      "Name: CC Exp Date, dtype: int64\n"
     ]
    }
   ],
   "source": [
    "y=df['CC Exp Date'].apply(lambda x: x.split('/')[-1]).value_counts()[:1].sort_values(ascending=False)\n",
    "s=str(y)\n",
    "''.join(s)\n",
    "print(s[6:])"
   ]
  },
  {
   "cell_type": "markdown",
   "metadata": {
    "id": "SpULOOIcTE1M"
   },
   "source": [
    "** Hard: What are the top 5 most popular email providers/hosts (e.g. gmail.com, yahoo.com, etc...) **"
   ]
  },
  {
   "cell_type": "code",
   "execution_count": 117,
   "metadata": {
    "id": "gOB6hkWtTE1N",
    "outputId": "1a67f942-7779-45bc-f54e-0be9d6095374"
   },
   "outputs": [
    {
     "data": {
      "text/plain": [
       "hotmail.com     1638\n",
       "yahoo.com       1616\n",
       "gmail.com       1605\n",
       "smith.com         42\n",
       "williams.com      37\n",
       "Name: Email, dtype: int64"
      ]
     },
     "execution_count": 117,
     "metadata": {},
     "output_type": "execute_result"
    }
   ],
   "source": [
    "df['Email'].apply(lambda s: s.split('@')[-1]).value_counts().head(5)"
   ]
  },
  {
   "cell_type": "markdown",
   "metadata": {
    "id": "GNlmaKMyTE1O"
   },
   "source": [
    "# Great Job!"
   ]
  }
 ],
 "metadata": {
  "colab": {
   "name": "Robosoft ML 2021-22 Day1 task.ipynb",
   "provenance": []
  },
  "kernelspec": {
   "display_name": "Python 3",
   "language": "python",
   "name": "python3"
  },
  "language_info": {
   "codemirror_mode": {
    "name": "ipython",
    "version": 3
   },
   "file_extension": ".py",
   "mimetype": "text/x-python",
   "name": "python",
   "nbconvert_exporter": "python",
   "pygments_lexer": "ipython3",
   "version": "3.8.8"
  }
 },
 "nbformat": 4,
 "nbformat_minor": 1
}
